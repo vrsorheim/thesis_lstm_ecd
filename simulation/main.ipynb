{
 "cells": [
  {
   "cell_type": "code",
   "execution_count": 1,
   "id": "2ff9ecb1",
   "metadata": {},
   "outputs": [],
   "source": [
    "from run_physics_model import run_instance"
   ]
  },
  {
   "cell_type": "code",
   "execution_count": 4,
   "id": "6cf550ac",
   "metadata": {},
   "outputs": [
    {
     "name": "stdout",
     "output_type": "stream",
     "text": [
      "Metadata read from file: {'initWell': 1380.289, 'initBit': 1330.617, 'startTime': datetime.datetime(2020, 2, 19, 8, 0, 2)}\n",
      "Operation read from file: 31799 lines.\n",
      "\n",
      "Variables set in RT tables:\n",
      "['MudFlowIn' 'MudDensityIn' 'ActualChokePress' 'RotarySpeed' 'MudTempIn'\n",
      " 'DepthHole' 'CurrentMDofbit' 'TimeDays']\n",
      "\n",
      "Variables provided but not set in RT tables:\n",
      "['Time' 'Volume' 'FluidName' 'ROP' 'BOPopen' 'Condition2' 'Type1' 'Type2']\n",
      "\n",
      "Variables not provided:\n",
      "['MudFlowOut' 'MudDensityOut' 'RotaryTorque' 'TankVolume' 'DesiredEMW'\n",
      " 'BufferPressure' 'MeasuredPWDTemp' 'RCDpress' 'SPP' 'MudTempOut'\n",
      " 'MudFlowAcross' 'SetPointPosition' 'Hookload' 'MeasuredPWDpressure'\n",
      " 'BLKPOS' 'InSlips']\n"
     ]
    },
    {
     "name": "stderr",
     "output_type": "stream",
     "text": [
      "Processing Operations: 100%|██████████| 31799/31799 [09:28<00:00, 55.91it/s]\n"
     ]
    }
   ],
   "source": [
    "run_instance(\"../input_files/case_1_ext_rot_fullrun_clipped/\", \"Case_5m_extreme_rot.in\",  \"Case_1_operations.info.txt\")"
   ]
  }
 ],
 "metadata": {
  "kernelspec": {
   "display_name": "inf265",
   "language": "python",
   "name": "python3"
  },
  "language_info": {
   "codemirror_mode": {
    "name": "ipython",
    "version": 3
   },
   "file_extension": ".py",
   "mimetype": "text/x-python",
   "name": "python",
   "nbconvert_exporter": "python",
   "pygments_lexer": "ipython3",
   "version": "3.11.7"
  }
 },
 "nbformat": 4,
 "nbformat_minor": 5
}
